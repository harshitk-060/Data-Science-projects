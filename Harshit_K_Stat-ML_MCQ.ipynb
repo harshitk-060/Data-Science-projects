{
 "cells": [
  {
   "cell_type": "markdown",
   "metadata": {},
   "source": [
    "### MCQ Test on Statistics and ML Concepts"
   ]
  },
  {
   "cell_type": "markdown",
   "metadata": {},
   "source": [
    "1. What is the mean of the data set {4, 8, 6, 5, 3, 8, 9}?\n",
    "\n",
    "Ans. C) 6.14"
   ]
  },
  {
   "cell_type": "markdown",
   "metadata": {},
   "source": [
    "2. Which measure of central tendency is affected by extreme values (outliers)? \n",
    "\n",
    "Ans. A) Mean"
   ]
  },
  {
   "cell_type": "markdown",
   "metadata": {},
   "source": [
    "3. What is the median of the data set {4, 8, 6, 5, 3, 8, 9}?\n",
    "\n",
    "Ans C) 6"
   ]
  },
  {
   "cell_type": "markdown",
   "metadata": {},
   "source": [
    "4) Which distribution is symmetric and bell-shaped? \n",
    "\n",
    "Ans. B) Normal Distribution "
   ]
  },
  {
   "cell_type": "markdown",
   "metadata": {},
   "source": [
    "5. In hypothesis testing, what is the p-value?\n",
    "\n",
    "Ans. C) The probability of obtaining a test statistic at least as extreme as the one observed"
   ]
  },
  {
   "cell_type": "markdown",
   "metadata": {},
   "source": [
    "6. What is the main purpose of regression analysis?\n",
    "\n",
    "Ans. B) To predict a continuous outcome variable based on one or more predictor variables"
   ]
  },
  {
   "cell_type": "markdown",
   "metadata": {},
   "source": [
    "7. What is the variance of the data set {2, 4, 6, 8, 10}?\n",
    "\n",
    "Ans. B) 5"
   ]
  },
  {
   "cell_type": "markdown",
   "metadata": {},
   "source": [
    "8. Which test is used to compare the means of two independent groups? \n",
    "\n",
    "Ans. C) t-test"
   ]
  },
  {
   "cell_type": "markdown",
   "metadata": {},
   "source": [
    "9. What is a Type I error in hypothesis testing?\n",
    "\n",
    "Ans. A) Rejecting a true null hypothesis "
   ]
  },
  {
   "cell_type": "markdown",
   "metadata": {},
   "source": [
    "10.  What is the correlation coefficient a measure of? \n",
    "\n",
    "Ans. A) The strength and direction of a linear relationship between two variables"
   ]
  },
  {
   "cell_type": "markdown",
   "metadata": {},
   "source": [
    "11. What is overfitting in machine learning? \n",
    "\n",
    "Ans.  A) When a model performs well on the training data but poorly on new, unseen data"
   ]
  },
  {
   "cell_type": "markdown",
   "metadata": {},
   "source": [
    "12.  Which of the following is a supervised learning algorithm? \n",
    "\n",
    "Ans. C) Linear Regression"
   ]
  },
  {
   "cell_type": "markdown",
   "metadata": {},
   "source": [
    "13.  Which evaluation metric is used for classification problems? \n",
    "\n",
    "Ans. C) Confusion Matrix"
   ]
  },
  {
   "cell_type": "markdown",
   "metadata": {},
   "source": [
    "14. What is the purpose of cross-validation in machine learning? \n",
    "\n",
    "Ans. B) To evaluate the performance of a model on unseen data"
   ]
  },
  {
   "cell_type": "markdown",
   "metadata": {},
   "source": [
    "15.  Which of the following algorithms is used for clustering?\n",
    "\n",
    "Ans.  C) K-means "
   ]
  },
  {
   "cell_type": "markdown",
   "metadata": {},
   "source": [
    "16.  In a decision tree, what is a leaf node?\n",
    "\n",
    "Ans. B) A node that has no children "
   ]
  },
  {
   "cell_type": "markdown",
   "metadata": {},
   "source": [
    "17. Which algorithm is used for dimensionality reduction? \n",
    "\n",
    "Ans. C) Principal Component Analysis (PCA)"
   ]
  },
  {
   "cell_type": "markdown",
   "metadata": {},
   "source": [
    "18. What is the main goal of unsupervised learning? \n",
    "\n",
    "Ans. B) To find hidden patterns or intrinsic structures in input data "
   ]
  },
  {
   "cell_type": "markdown",
   "metadata": {},
   "source": [
    "19. Which of the following is an ensemble learning method? \n",
    "\n",
    "Ans. C) Random Forest"
   ]
  },
  {
   "cell_type": "markdown",
   "metadata": {},
   "source": [
    "20. What is the purpose of the learning rate in gradient descent?\n",
    "\n",
    "Ans. B) To control the step size at each iteration while moving toward a minimum of a loss function"
   ]
  },
  {
   "cell_type": "markdown",
   "metadata": {},
   "source": [
    "21. What does the ROC curve represent in binary classification?\n",
    "\n",
    "Ans. B) The trade-off between true positive rate and false positive rate"
   ]
  },
  {
   "cell_type": "markdown",
   "metadata": {},
   "source": [
    "22. Which of the following methods can be used to handle missing data? \n",
    "\n",
    "Ans. D) All of the above"
   ]
  },
  {
   "cell_type": "markdown",
   "metadata": {},
   "source": [
    "23. Which activation function is commonly used in the hidden layers of a neural network? \n",
    "\n",
    "Ans. B) ReLU (Rectified Linear Unit)"
   ]
  },
  {
   "cell_type": "markdown",
   "metadata": {},
   "source": [
    "24. What is the purpose of regularization in machine learning?\n",
    "\n",
    "Ans. B) To prevent overfitting by adding a penalty to the loss function"
   ]
  },
  {
   "cell_type": "markdown",
   "metadata": {},
   "source": [
    "25. What is the difference between bagging and boosting? \n",
    "\n",
    "Ans. A) Bagging reduces variance, while boosting reduces bias"
   ]
  }
 ],
 "metadata": {
  "language_info": {
   "name": "python"
  }
 },
 "nbformat": 4,
 "nbformat_minor": 2
}
